{
 "cells": [
  {
   "cell_type": "markdown",
   "id": "88f66f49-7616-469b-b4ee-d6a3e903302f",
   "metadata": {},
   "source": [
    "# jupyther101\n",
    "Let's do this\n"
   ]
  },
  {
   "cell_type": "code",
   "execution_count": 1,
   "id": "01af3a8a-6136-49af-888a-e417a1f6463a",
   "metadata": {},
   "outputs": [
    {
     "data": {
      "text/plain": [
       "2.4"
      ]
     },
     "execution_count": 1,
     "metadata": {},
     "output_type": "execute_result"
    }
   ],
   "source": [
    "12/5"
   ]
  },
  {
   "cell_type": "code",
   "execution_count": null,
   "id": "9c0d03e3-e070-490c-b9f5-865865d3d4c7",
   "metadata": {},
   "outputs": [],
   "source": []
  }
 ],
 "metadata": {
  "kernelspec": {
   "display_name": "Python 3 (ipykernel)",
   "language": "python",
   "name": "python3"
  },
  "language_info": {
   "codemirror_mode": {
    "name": "ipython",
    "version": 3
   },
   "file_extension": ".py",
   "mimetype": "text/x-python",
   "name": "python",
   "nbconvert_exporter": "python",
   "pygments_lexer": "ipython3",
   "version": "3.11.7"
  }
 },
 "nbformat": 4,
 "nbformat_minor": 5
}
